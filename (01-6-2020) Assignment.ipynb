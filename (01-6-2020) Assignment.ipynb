{
 "cells": [
  {
   "cell_type": "markdown",
   "metadata": {},
   "source": [
    "# CSE-121710302022-K.Naga Vennela"
   ]
  },
  {
   "cell_type": "markdown",
   "metadata": {},
   "source": [
    "## PASSWORD PICKER "
   ]
  },
  {
   "cell_type": "code",
   "execution_count": 2,
   "metadata": {},
   "outputs": [
    {
     "name": "stdout",
     "output_type": "stream",
     "text": [
      "Password Picker !!!! Choose the most secure password you want .......\n",
      "\n",
      "Your password is :  ExploreTrack3~\n",
      "\n",
      "Do u want a new password?\n",
      "Enter \"Yes\" for new password and \"No\" for not generating a new password. \n",
      "Yes or No : no\n"
     ]
    }
   ],
   "source": [
    "f=open(\"ran_words.txt\",\"w\")\n",
    "f.write(\"Accept Achieve Acquire Add Allow Announce Bake Beat Believe Blow Build Buy Calculate Complain Commit Compare Consider Create Demand Develop Discover Dream Drop Enjoy Ensure Expect Explore Extend Enable Fall Feed Find Fold Freeze Fight\")\n",
    "f.close\n",
    "f=open(\"ran_words.txt\",\"r\")\n",
    "lines=0\n",
    "words=0\n",
    "for line in f:\n",
    "    line=line.strip(\"\\n\")\n",
    "    w=line.split()\n",
    "    words=w\n",
    "f.close()\n",
    "\n",
    "f1=open(\"ran_nouns.txt\",\"w\")\n",
    "f1.write(\"Water Party Snake Glass Sita John Lemon India April Jason Grace Queen Mango Panda Python Venus Metal Honey Tiger Diana Ninja Space Peach Album Henry Storm Berry Spain Tulip Alien Oscar Drama Horse Grape Track Yahoo Actor Juice Hippo Enemy\")\n",
    "f1.close\n",
    "f1=open(\"ran_nouns.txt\",\"r\")\n",
    "lines=0\n",
    "word=0\n",
    "for line in f1:\n",
    "    line=line.strip(\"\\n\")\n",
    "    w=line.split()\n",
    "    word=w\n",
    "f1.close()\n",
    "\n",
    "import random\n",
    "import string\n",
    "print(\"Password Picker !!!! Choose the most secure password you want .......\")\n",
    "while True:\n",
    "    s = random.choice(words)+random.choice(word)+str(random.randint(1,10))+random.choice(string.punctuation)\n",
    "    print(\"\\nYour password is : \",s)\n",
    "    print(\"\\nDo u want a new password?\\nEnter \\\"Yes\\\" for new password and \\\"No\\\" for not generating a new password. \")\n",
    "    ch = input(\"Yes or No : \")\n",
    "    if ch in [\"NO\",\"No\",\"no\",\"nO\"]:\n",
    "        break\n",
    "    elif ch in [\"YES\",\"Yes\",\"yes\"]:\n",
    "        continue\n",
    "    else:\n",
    "        print(\"Enter either Yes or No \")\n",
    "        \n",
    "        \n",
    "        \n",
    "        \n",
    "        "
   ]
  },
  {
   "cell_type": "code",
   "execution_count": null,
   "metadata": {},
   "outputs": [],
   "source": []
  },
  {
   "cell_type": "code",
   "execution_count": null,
   "metadata": {},
   "outputs": [],
   "source": []
  },
  {
   "cell_type": "code",
   "execution_count": null,
   "metadata": {},
   "outputs": [],
   "source": []
  }
 ],
 "metadata": {
  "kernelspec": {
   "display_name": "Python 3",
   "language": "python",
   "name": "python3"
  },
  "language_info": {
   "codemirror_mode": {
    "name": "ipython",
    "version": 3
   },
   "file_extension": ".py",
   "mimetype": "text/x-python",
   "name": "python",
   "nbconvert_exporter": "python",
   "pygments_lexer": "ipython3",
   "version": "3.7.1"
  }
 },
 "nbformat": 4,
 "nbformat_minor": 2
}
