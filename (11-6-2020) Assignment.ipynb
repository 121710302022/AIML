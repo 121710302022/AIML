{
 "cells": [
  {
   "cell_type": "markdown",
   "metadata": {},
   "source": [
    "## CSE-121710302022 - K.Naga Vennela"
   ]
  },
  {
   "cell_type": "markdown",
   "metadata": {},
   "source": [
    "### Question 1: \n",
    "### $L(V) = S$ and $R(V) = S$ holds."
   ]
  },
  {
   "cell_type": "code",
   "execution_count": 3,
   "metadata": {},
   "outputs": [
    {
     "name": "stdout",
     "output_type": "stream",
     "text": [
      "4\n",
      "a\n",
      "aa\n",
      "abcd\n",
      "aaaaa\n",
      "YES\n",
      "YES\n",
      "NO\n",
      "YES\n"
     ]
    }
   ],
   "source": [
    "def L(x): return x[1:]+x[0]\n",
    "def R(x): return x[-1]+x[0:len(x)-1]\n",
    "t = int(input())\n",
    "list1 = [input() for i in range(t)]\n",
    "for x in list1:\n",
    "    print(\"YES\") if L(x) == R(x) else print(\"NO\")"
   ]
  },
  {
   "cell_type": "markdown",
   "metadata": {},
   "source": [
    "### Question 2:  \n",
    "### beautiful-days-at-the-movies"
   ]
  },
  {
   "cell_type": "code",
   "execution_count": 33,
   "metadata": {},
   "outputs": [
    {
     "name": "stdout",
     "output_type": "stream",
     "text": [
      "20 23 6\n",
      "2\n"
     ]
    }
   ],
   "source": [
    "i,j,k = input().split(\" \")\n",
    "i,j,k = int(i),int(j),int(k)\n",
    "c = 0\n",
    "for i in range(i,j+1): \n",
    "    rev = 0  \n",
    "    a = 0 \n",
    "    temp = i\n",
    "    while(i!=0): \n",
    "        rev = rev * 10 + i %10  \n",
    "        i = i // 10\n",
    "    if (rev-temp)%k==0:\n",
    "        c+=1\n",
    "        \n",
    "print(c)"
   ]
  },
  {
   "cell_type": "markdown",
   "metadata": {},
   "source": [
    "### Question 3: \n",
    "### birthday-cake-candles"
   ]
  },
  {
   "cell_type": "code",
   "execution_count": 45,
   "metadata": {},
   "outputs": [
    {
     "name": "stdout",
     "output_type": "stream",
     "text": [
      "4\n",
      "3 2 1 3\n",
      "2\n"
     ]
    }
   ],
   "source": [
    "n = int(input())\n",
    "l = input().split(\" \")\n",
    "print(l.count(max(l)))"
   ]
  },
  {
   "cell_type": "markdown",
   "metadata": {},
   "source": [
    "### Question 4: \n",
    "#### Sample Input : 1,2,1\n",
    "#### Sample Output: 211,3\n"
   ]
  },
  {
   "cell_type": "code",
   "execution_count": 13,
   "metadata": {},
   "outputs": [
    {
     "name": "stdout",
     "output_type": "stream",
     "text": [
      "1,2,1,4\n",
      "4211,12\n"
     ]
    }
   ],
   "source": [
    "import itertools as it\n",
    "a=list(map(str,input().split(',')))\n",
    "p = it.permutations(a, len(a))\n",
    "x = list(set(p))               \n",
    "l = []\n",
    "for i in x:                          \n",
    "    p = ''.join(i)                   \n",
    "    l.append(int(p))\n",
    "l.sort()\n",
    "print(str(l[-1])+','+str(len(l)))"
   ]
  },
  {
   "cell_type": "markdown",
   "metadata": {},
   "source": [
    "### Question 5: \n",
    "### Check whether the sum is palindrome or not.If not,add the sum and its reverse and repeat the process until a palindrome is obtained."
   ]
  },
  {
   "cell_type": "code",
   "execution_count": 3,
   "metadata": {},
   "outputs": [
    {
     "name": "stdout",
     "output_type": "stream",
     "text": [
      "195\n",
      "9339\n"
     ]
    }
   ],
   "source": [
    "def rev_number(n):\n",
    "    s = 0\n",
    "    while True:\n",
    "        k = str(n)\n",
    "        if k == k[::-1]:\n",
    "            break\n",
    "        else:\n",
    "            m = int(k[::-1])\n",
    "            n += m\n",
    "            s += 1\n",
    "    return n \n",
    "n =int(input())\n",
    "num = rev_number(n)\n",
    "print(num)"
   ]
  },
  {
   "cell_type": "markdown",
   "metadata": {},
   "source": [
    "### Question 6 : \n",
    "### Second largest element of the subarray"
   ]
  },
  {
   "cell_type": "code",
   "execution_count": 6,
   "metadata": {},
   "outputs": [
    {
     "name": "stdout",
     "output_type": "stream",
     "text": [
      "2\n",
      "5 3\n",
      "2 4 2 4 2\n",
      "Output =  5\n",
      "8 5\n",
      "9 3 5 7 8 11 17 2 3\n",
      "Output =  3\n"
     ]
    }
   ],
   "source": [
    "for i in range(int(input())):\n",
    "    n,k = map(int,input().split())\n",
    "    a = list(map(int,input().split()))\n",
    "    c,x,i1,i2,b = 0,0,0,0,list()\n",
    "    for j in range(n):\n",
    "        c += 1\n",
    "        if a[j] > k :\n",
    "            x += 1\n",
    "            if x == 1 :i1 = j\n",
    "            else:\n",
    "                if a[j] == a[i1]:x -= 1\n",
    "                else:i2 = j\n",
    "        if x == 2 :\n",
    "            x = 1\n",
    "            b.append(c-1)\n",
    "            c = i2-i1\n",
    "            i1 = i2\n",
    "            i2 = 0\n",
    "        if j == n-1 and b == [ ]:b.append(n)\n",
    "    print(\"Output = \",max(b))        "
   ]
  },
  {
   "cell_type": "code",
   "execution_count": null,
   "metadata": {},
   "outputs": [],
   "source": []
  },
  {
   "cell_type": "code",
   "execution_count": null,
   "metadata": {},
   "outputs": [],
   "source": []
  }
 ],
 "metadata": {
  "kernelspec": {
   "display_name": "Python 3",
   "language": "python",
   "name": "python3"
  },
  "language_info": {
   "codemirror_mode": {
    "name": "ipython",
    "version": 3
   },
   "file_extension": ".py",
   "mimetype": "text/x-python",
   "name": "python",
   "nbconvert_exporter": "python",
   "pygments_lexer": "ipython3",
   "version": "3.7.1"
  }
 },
 "nbformat": 4,
 "nbformat_minor": 2
}
