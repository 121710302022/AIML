{
 "cells": [
  {
   "cell_type": "markdown",
   "metadata": {},
   "source": [
    "# CSE -121710302022-K. Naga Vennela"
   ]
  },
  {
   "cell_type": "markdown",
   "metadata": {},
   "source": [
    "### 1.[Data Series] \n",
    "#### Write a Python program to add, subtract, multiple and divide two Pandas Series. "
   ]
  },
  {
   "cell_type": "code",
   "execution_count": 19,
   "metadata": {},
   "outputs": [
    {
     "name": "stdout",
     "output_type": "stream",
     "text": [
      "Addition :\n",
      " [2, 4, 6, 8, 10] + [1, 3, 5, 7, 9] = [3, 7, 11, 15, 19]\n",
      "Subtraction :\n",
      " [2, 4, 6, 8, 10] - [1, 3, 5, 7, 9] = [1, 1, 1, 1, 1]\n",
      "Multiplication :\n",
      " [2, 4, 6, 8, 10] * [1, 3, 5, 7, 9] = [2, 12, 30, 56, 90]\n",
      "Division :\n",
      " [2, 4, 6, 8, 10] / [1, 3, 5, 7, 9] = [2.0, 1.3333333333333333, 1.2, 1.1428571428571428, 1.1111111111111112]\n"
     ]
    }
   ],
   "source": [
    "import pandas as pd\n",
    "s1 = pd.Series([2, 4, 6, 8, 10])\n",
    "s2 = pd.Series([1, 3, 5, 7, 9])\n",
    "print(\"Addition :\\n\",s1.tolist(),\"+\",s2.tolist(),\"=\",(s1+s2).tolist())\n",
    "print(\"Subtraction :\\n\",s1.tolist(),\"-\",s2.tolist(),\"=\",(s1-s2).tolist())\n",
    "print(\"Multiplication :\\n\",s1.tolist(),\"*\",s2.tolist(),\"=\",(s1*s2).tolist())\n",
    "print(\"Division :\\n\",s1.tolist(),\"/\",s2.tolist(),\"=\",(s1/s2).tolist())"
   ]
  },
  {
   "cell_type": "markdown",
   "metadata": {},
   "source": []
  },
  {
   "cell_type": "markdown",
   "metadata": {},
   "source": [
    "### 3.[List Difference] \n",
    "#### Write a Pandas program to get the items of a given series not present in another given series."
   ]
  },
  {
   "cell_type": "code",
   "execution_count": 26,
   "metadata": {},
   "outputs": [
    {
     "name": "stdout",
     "output_type": "stream",
     "text": [
      "Original Series : \n",
      "Series 1 :  [1, 2, 3, 4, 5]\n",
      "Series 2 :  [2, 4, 6, 8, 10]\n",
      "\n",
      "Items of sr1 not present in sr2:\n",
      "[1, 3, 5]\n"
     ]
    }
   ],
   "source": [
    "import pandas as pd\n",
    "a = pd.Series([1,2,3,4,5])\n",
    "b = pd.Series([2,4,6,8,10])\n",
    "print(\"Original Series : \")\n",
    "print(\"Series 1 : \",a.tolist())\n",
    "print(\"Series 2 : \",b.tolist())\n",
    "print(\"\\nItems of sr1 not present in sr2:\")\n",
    "s = a[~a.isin(b)]\n",
    "print(s.tolist())"
   ]
  },
  {
   "cell_type": "markdown",
   "metadata": {},
   "source": [
    "### 4.[Filter Words with Multiple Vowels] \n",
    "#### Write a Pandas program to filter words from a given series that contain at least two vowels. "
   ]
  },
  {
   "cell_type": "code",
   "execution_count": 62,
   "metadata": {},
   "outputs": [
    {
     "name": "stdout",
     "output_type": "stream",
     "text": [
      "Original Series:\n",
      "\n",
      "0       Red\n",
      "1     Green\n",
      "2    Orange\n",
      "3      Pink\n",
      "4    Yellow\n",
      "5     White\n",
      "dtype: object\n",
      "\n",
      "Filtered Series:\n",
      "\n",
      "Green\n",
      "Orange\n",
      "Yellow\n",
      "White\n"
     ]
    }
   ],
   "source": [
    "import pandas as pd\n",
    "def Check_Vow(string, vowels): \n",
    "    final = [each for each in string if each in vowels] \n",
    "    if len(final)>=2:\n",
    "        print(string)\n",
    "words = pd.Series([\"Red\",\"Green\",\"Orange\",\"Pink\",\"Yellow\",\"White\"])\n",
    "vowels = \"AaEeIiOoUu\"\n",
    "print(\"Original Series:\\n\")\n",
    "print(words)\n",
    "print(\"\\nFiltered Series:\\n\")\n",
    "for rows in words:\n",
    "        Check_Vow(rows,vowels)\n"
   ]
  },
  {
   "cell_type": "markdown",
   "metadata": {},
   "source": [
    "### 5.Consider the following as my DataFrame,Write a Pandas program to select the rows where the number of attempts in the examination is greater than 2."
   ]
  },
  {
   "cell_type": "code",
   "execution_count": 63,
   "metadata": {},
   "outputs": [
    {
     "name": "stdout",
     "output_type": "stream",
     "text": [
      "Number of attempts in the examination is greater than 2 :\n",
      "\n",
      "       name  score  attempts qualify\n",
      "b     Dima    9.0         3      no\n",
      "d    James    NaN         3      no\n",
      "f  Michael   20.0         3     yes\n"
     ]
    }
   ],
   "source": [
    "import pandas as pd\n",
    "import numpy as np\n",
    "exam_data  = {'name': ['Anastasia', 'Dima', 'Katherine', 'James', 'Emily', 'Michael', 'Matthew', 'Laura', 'Kevin', 'Jonas'],\n",
    "        'score': [12.5, 9, 16.5, np.nan, 9, 20, 14.5, np.nan, 8, 19],\n",
    "        'attempts': [1, 3, 2, 3, 2, 3, 1, 1, 2, 1],\n",
    "        'qualify': ['yes', 'no', 'yes', 'no', 'no', 'yes', 'yes', 'no', 'no', 'yes']}\n",
    "labels = ['a', 'b', 'c', 'd', 'e', 'f', 'g', 'h', 'i', 'j']\n",
    "df = pd.DataFrame(exam_data , index=labels)\n",
    "print(\"Number of attempts in the examination is greater than 2 :\")\n",
    "print(\"\\n\",df[(df['attempts'] > 2)])"
   ]
  },
  {
   "cell_type": "code",
   "execution_count": null,
   "metadata": {},
   "outputs": [],
   "source": []
  }
 ],
 "metadata": {
  "kernelspec": {
   "display_name": "Python 3",
   "language": "python",
   "name": "python3"
  },
  "language_info": {
   "codemirror_mode": {
    "name": "ipython",
    "version": 3
   },
   "file_extension": ".py",
   "mimetype": "text/x-python",
   "name": "python",
   "nbconvert_exporter": "python",
   "pygments_lexer": "ipython3",
   "version": "3.7.1"
  }
 },
 "nbformat": 4,
 "nbformat_minor": 2
}
