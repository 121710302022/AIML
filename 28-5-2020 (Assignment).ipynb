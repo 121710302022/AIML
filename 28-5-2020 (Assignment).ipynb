{
 "cells": [
  {
   "cell_type": "markdown",
   "metadata": {},
   "source": [
    "# CSE-121710302022-K.Naga Vennela"
   ]
  },
  {
   "cell_type": "markdown",
   "metadata": {},
   "source": [
    "### 1.Accept a string from the user and count no.of vowels,consonants and special characters"
   ]
  },
  {
   "cell_type": "code",
   "execution_count": 1,
   "metadata": {},
   "outputs": [
    {
     "name": "stdout",
     "output_type": "stream",
     "text": [
      "HEllo83@!*$\n",
      "Vowels= 2\n",
      "Consonants= 3\n",
      "Special characters= 6\n"
     ]
    }
   ],
   "source": [
    "v=0\n",
    "c=0\n",
    "s=0\n",
    "str=input()   \n",
    "str = str.lower();  \n",
    "for i in range(0,len(str)):   \n",
    "    if str[i] in ('a',\"e\",\"i\",\"o\",\"u\"):  \n",
    "        v+=1  \n",
    "    elif (str[i] >= 'a' and str[i] <= 'z'):  \n",
    "        c+=1\n",
    "    else:\n",
    "        s+=1 \n",
    "print(\"Vowels=\",v)  \n",
    "print(\"Consonants=\",c)  \n",
    "print(\"Special characters=\",s)"
   ]
  },
  {
   "cell_type": "markdown",
   "metadata": {},
   "source": [
    "### 2. Count the no.of pairs of a in the given string(Infosys InfyTQ)\n",
    "    string →  \"abbaaccbbaaa\"\n",
    "    output →  2\n"
   ]
  },
  {
   "cell_type": "code",
   "execution_count": 2,
   "metadata": {},
   "outputs": [
    {
     "name": "stdout",
     "output_type": "stream",
     "text": [
      "abbaaccbbaaa\n",
      "2\n"
     ]
    }
   ],
   "source": [
    "str=input()\n",
    "n=str.count(\"aa\")\n",
    "print(n)"
   ]
  },
  {
   "cell_type": "markdown",
   "metadata": {},
   "source": [
    "### 3.Test case1:\n",
    "####        string →  \"((((()()()))))()\"    output →  8\n",
    "###   Test case2:\n",
    "####       string →  \"((()))()\"   Output →  4\n"
   ]
  },
  {
   "cell_type": "code",
   "execution_count": 9,
   "metadata": {},
   "outputs": [
    {
     "name": "stdout",
     "output_type": "stream",
     "text": [
      "((((()()()))))()\n",
      "8\n"
     ]
    }
   ],
   "source": [
    "s=input()\n",
    "l=len(s)\n",
    "c=0\n",
    "for i in range(0,l):\n",
    "    if s[i]=='(':\n",
    "        for j in range(i+1,l):\n",
    "            if s[j]==')':\n",
    "                c+=1\n",
    "                break\n",
    "print(c)\n",
    "        "
   ]
  },
  {
   "cell_type": "markdown",
   "metadata": {},
   "source": [
    "### 4.Read the input as two limits and Print the output as Palindrome count between the two limits\n"
   ]
  },
  {
   "cell_type": "code",
   "execution_count": 4,
   "metadata": {},
   "outputs": [
    {
     "name": "stdout",
     "output_type": "stream",
     "text": [
      "1\n",
      "100\n",
      "18\n"
     ]
    }
   ],
   "source": [
    "mini=int(input())\n",
    "maxi= int(input())\n",
    "c=0\n",
    "for num in range(mini,maxi+1):\n",
    "    temp = num\n",
    "    reverse = 0\n",
    "    while(temp > 0):\n",
    "        Reminder = temp % 10\n",
    "        reverse = (reverse * 10) + Reminder\n",
    "        temp = temp //10\n",
    "    if(num == reverse):\n",
    "        c+=1\n",
    "print(c)"
   ]
  },
  {
   "cell_type": "markdown",
   "metadata": {},
   "source": [
    "### 5.Accept a number as an input and check whether the given number is palindrome or not\n",
    "1. if it is a palindrome number print the number on the screen\n",
    "2. if it is not a palindrome number reverse that number and add it to previous number repeat this until will get a palindrome number and print that palindrome number on the screen\n"
   ]
  },
  {
   "cell_type": "code",
   "execution_count": 3,
   "metadata": {},
   "outputs": [
    {
     "name": "stdout",
     "output_type": "stream",
     "text": [
      "8731\n",
      "112211\n"
     ]
    }
   ],
   "source": [
    "n = int(input())\n",
    "while True :\n",
    "    if str(n) == str(n)[::-1]:\n",
    "        print(str(n)[::-1])\n",
    "        break\n",
    "    else:\n",
    "        n += int(str(n)[::-1])"
   ]
  },
  {
   "cell_type": "markdown",
   "metadata": {},
   "source": [
    "### 6.input:orange  →   output : puboif"
   ]
  },
  {
   "cell_type": "code",
   "execution_count": null,
   "metadata": {},
   "outputs": [],
   "source": [
    "a=input()\n",
    "for i in range(0,len(a)):\n",
    "    b=ord(a[i])\n",
    "    if i==('a' or 'e'or'i'or'o'or'u'):\n",
    "        b+=1\n",
    "        print(chr(b),end=\"\")\n",
    "    else:\n",
    "        while a[i]!='\\0':\n",
    "            b+=1\n",
    "            if(b==('a' or 'e'or'i'or'o'or'u')):\n",
    "                  print(chr(b),end=\"\")\n",
    "            else:\n",
    "                  continue"
   ]
  },
  {
   "cell_type": "markdown",
   "metadata": {},
   "source": [
    "### 7. Accept input as a string and display sum of digits as the output \n",
    "#### input:Appli123cation456 \n",
    "#### Output: 21\n"
   ]
  },
  {
   "cell_type": "code",
   "execution_count": 4,
   "metadata": {},
   "outputs": [
    {
     "name": "stdout",
     "output_type": "stream",
     "text": [
      "Appli123cation456\n",
      "21\n"
     ]
    }
   ],
   "source": [
    "str=input()\n",
    "sum=0\n",
    "for i in range(0,len(str)):\n",
    "    ch=str[i]\n",
    "    if((ch>='a' and ch<='z') or (ch>='A' and ch<='Z')):\n",
    "        continue\n",
    "    else:\n",
    "        sum+=int(ch)\n",
    "print(sum)"
   ]
  },
  {
   "cell_type": "markdown",
   "metadata": {},
   "source": [
    "### 8.Write a program to prompt for a score between 0.0 and 1.0. If the score is out of range, print an error. If the score is between 0.0 and 1.0, print a grade using the following table:"
   ]
  },
  {
   "cell_type": "code",
   "execution_count": 6,
   "metadata": {},
   "outputs": [
    {
     "name": "stdout",
     "output_type": "stream",
     "text": [
      "Enter marks:0.85\n",
      "B\n"
     ]
    }
   ],
   "source": [
    "m=float(input(\"Enter marks:\"))\n",
    "if m>1.0 or m<0.0:\n",
    "    print(\"ERROR!! Enter marks in range 0.0 to 1.0\")\n",
    "else:\n",
    "    if m>=0.9:\n",
    "        print(\"A\")\n",
    "    elif m>=0.8 and m<0.9:\n",
    "        print(\"B\")\n",
    "    elif m>=0.7 and m<0.8:\n",
    "        print(\"C\")\n",
    "    elif m>=0.6 and m<0.7:\n",
    "        print(\"D\")            \n",
    "    elif m<0.6:\n",
    "        print(\"F\")"
   ]
  },
  {
   "cell_type": "markdown",
   "metadata": {},
   "source": [
    "### 9.Write a Python program which iterates the integers from 1 to 50. For multiples of three print \"Fizz\" instead of the number and for the multiples of five print \"Buzz\". For numbers which are multiples of both three and five print \"FizzBuzz\"."
   ]
  },
  {
   "cell_type": "code",
   "execution_count": 7,
   "metadata": {},
   "outputs": [
    {
     "name": "stdout",
     "output_type": "stream",
     "text": [
      "7\n",
      "FizzBuzz\n",
      "1\n",
      "2\n",
      "3\n",
      "4\n",
      "Buzz\n",
      "6\n",
      "7\n"
     ]
    }
   ],
   "source": [
    "n=int(input())\n",
    "for i in range(0,n+1):\n",
    "    if i%3==0 and i%5==0:\n",
    "        print(\"FizzBuzz\")\n",
    "    elif i%5==0:\n",
    "        print(\"Buzz\")\n",
    "    elif 1%3==0:\n",
    "        print(\"Fizz\")\n",
    "    else:\n",
    "        print(i)"
   ]
  },
  {
   "cell_type": "markdown",
   "metadata": {},
   "source": [
    "### 10. Write a Python program to find the median of three values."
   ]
  },
  {
   "cell_type": "code",
   "execution_count": 8,
   "metadata": {},
   "outputs": [
    {
     "name": "stdout",
     "output_type": "stream",
     "text": [
      "Input first number: 26\n",
      "Input second number: 15\n",
      "Input third number: 29\n",
      "The median is 26\n"
     ]
    }
   ],
   "source": [
    "s1=int(input(\"Input first number: \"))\n",
    "s2=int(input(\"Input second number: \"))\n",
    "s3=int(input(\"Input third number: \"))\n",
    "if s1>s2:\n",
    "    if s1<s3:\n",
    "        m=s1\n",
    "    elif s2>s3:\n",
    "        m=s2\n",
    "    else:\n",
    "        m=s3\n",
    "else:\n",
    "    if s1>s3:\n",
    "        m=s1\n",
    "    elif s2<s3:\n",
    "        m=s2\n",
    "    else:\n",
    "        m=s3\n",
    "print(\"The median is\",m)"
   ]
  },
  {
   "cell_type": "code",
   "execution_count": null,
   "metadata": {},
   "outputs": [],
   "source": []
  }
 ],
 "metadata": {
  "kernelspec": {
   "display_name": "Python 3",
   "language": "python",
   "name": "python3"
  },
  "language_info": {
   "codemirror_mode": {
    "name": "ipython",
    "version": 3
   },
   "file_extension": ".py",
   "mimetype": "text/x-python",
   "name": "python",
   "nbconvert_exporter": "python",
   "pygments_lexer": "ipython3",
   "version": "3.7.1"
  }
 },
 "nbformat": 4,
 "nbformat_minor": 2
}
