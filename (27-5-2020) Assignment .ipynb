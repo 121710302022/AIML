{
 "cells": [
  {
   "cell_type": "markdown",
   "metadata": {},
   "source": [
    "### 1. Generate pattern \n",
   ]
  },
  {
   "cell_type": "code",
   "execution_count": 12,
   "metadata": {},
   "outputs": [
    {
     "name": "stdout",
     "output_type": "stream",
     "text": [
      "5\n",
      "* \n",
      "* * \n",
      "* * * \n",
      "* * * * \n",
      "* * * * * \n"
     ]
    }
   ],
   "source": [
    "i=int(input())\n",
    "for a in range(0,i):\n",
    "    for b in range(0,a+1):\n",
    "        print(\"*\",end=' ')\n",
    "        \n",
    "    print(\"\\r\")\n",
    "    "
   ]
  },
  {
   "cell_type": "markdown",
   "metadata": {},
   "source": [
    "### 2. Display multiplication table of K. Take k value from user\n",
    "#### Ex:      7 x 1 =7       7 x 2 = 14   ....."
   ]
  },
  {
   "cell_type": "code",
   "execution_count": 15,
   "metadata": {
    "scrolled": true
   },
   "outputs": [
    {
     "name": "stdout",
     "output_type": "stream",
     "text": [
      "9\n",
      "9 x 1 = 9\n",
      "9 x 2 = 18\n",
      "9 x 3 = 27\n",
      "9 x 4 = 36\n",
      "9 x 5 = 45\n",
      "9 x 6 = 54\n",
      "9 x 7 = 63\n",
      "9 x 8 = 72\n",
      "9 x 9 = 81\n",
      "9 x 10 = 90\n"
     ]
    }
   ],
   "source": [
    "k=int(input())\n",
    "for i in range(1,11):\n",
    "    print(k,\"x\",i,\"=\",k*i)"
   ]
  },
  {
   "cell_type": "markdown",
   "metadata": {},
   "source": [
    "### **3. Roots of quadratic equation**\n",
    "### Take the coefficients a,b,c from the user"
   ]
  },
  {
   "cell_type": "code",
   "execution_count": 2,
   "metadata": {},
   "outputs": [
    {
     "name": "stdout",
     "output_type": "stream",
     "text": [
      "a=3\n",
      "b=8\n",
      "c=1\n",
      "Root 1= -8.0\n",
      "Root 2= -8.0\n"
     ]
    }
   ],
   "source": [
    "a=int(input(\"a=\"))\n",
    "b=int(input(\"b=\"))\n",
    "c=int(input(\"c=\"))\n",
    "d=b*b-4*a*c\n",
    "srt=d**(1/2)\n",
    "s=round(srt.imag,5)\n",
    "if d>0:\n",
    "    print(\"Root 1=\",(-b+s/(2*a)))\n",
    "    print(\"Root 2=\",(-b-s/(2*a)))\n",
    "elif d==0:\n",
    "    print(\"Root 1=\",-b/(2*a),\"= Root 2\")\n",
    "else:\n",
    "    print(\"Root 1=\",end=\"\")\n",
    "    print(-b/(2*a),'+i',s)\n",
    "    print(\"Root 2=\",end=\"\")\n",
    "    print(-b/(2*a),'-i',s)\n",
    "    "
   ]
  },
  {
   "cell_type": "markdown",
   "metadata": {},
   "source": [
    "### 4. Convert a decimal number to Binary"
   ]
  },
  {
   "cell_type": "code",
   "execution_count": 9,
   "metadata": {},
   "outputs": [
    {
     "name": "stdout",
     "output_type": "stream",
     "text": [
      "10\n",
      "1010\n"
     ]
    }
   ],
   "source": [
    "num=int(input()) \n",
    "binary=bin(num)\n",
    "print(binary.replace(\"0b\", \"\"))\n",
    "  "
   ]
  },
  {
   "cell_type": "markdown",
   "metadata": {},
   "source": [
    "### 5. Generate first N number of Fibonacci numbers. Take N value from the user"
   ]
  },
  {
   "cell_type": "code",
   "execution_count": 22,
   "metadata": {},
   "outputs": [
    {
     "name": "stdout",
     "output_type": "stream",
     "text": [
      "7\n",
      "0 1 1 2 3 5 8 "
     ]
    }
   ],
   "source": [
    "n=int(input())\n",
    "a = 0\n",
    "b = 1\n",
    "if n==0:\n",
    "    print(a) \n",
    "elif n == 1: \n",
    "    print(b) \n",
    "else:  \n",
    "    print(a,end=\" \")\n",
    "    print(b,end=\" \")\n",
    "    for i in range(2,n): \n",
    "        c = a + b\n",
    "        print(c,end=\" \")\n",
    "        a = b \n",
    "        b = c "
   ]
  },
  {
   "cell_type": "code",
   "execution_count": null,
   "metadata": {},
   "outputs": [],
   "source": []
  },
  {
   "cell_type": "code",
   "execution_count": null,
   "metadata": {},
   "outputs": [],
   "source": []
  }
 ],
 "metadata": {
  "kernelspec": {
   "display_name": "Python 3",
   "language": "python",
   "name": "python3"
  },
  "language_info": {
   "codemirror_mode": {
    "name": "ipython",
    "version": 3
   },
   "file_extension": ".py",
   "mimetype": "text/x-python",
   "name": "python",
   "nbconvert_exporter": "python",
   "pygments_lexer": "ipython3",
   "version": "3.7.1"
  }
 },
 "nbformat": 4,
 "nbformat_minor": 2
}
