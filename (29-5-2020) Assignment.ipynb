{
 "cells": [
  {
   "cell_type": "markdown",
   "metadata": {},
   "source": [
    "# CSE-121710302022-K.Naga Vennela"
   ]
  },
  {
   "cell_type": "markdown",
   "metadata": {},
   "source": [
    "### 1.Create a function to find Factorial of a number using Recursion"
   ]
  },
  {
   "cell_type": "code",
   "execution_count": 20,
   "metadata": {},
   "outputs": [
    {
     "name": "stdout",
     "output_type": "stream",
     "text": [
      "7\n",
      "5040\n"
     ]
    }
   ],
   "source": [
    "def fact(n1):\n",
    "    if n1==0:\n",
    "        return 1\n",
    "    else:\n",
    "        return n1*fact(n1-1)\n",
    "n=int(input())\n",
    "print(fact(n))"
   ]
  },
  {
   "cell_type": "markdown",
   "metadata": {},
   "source": [
    "### 2.Create a function and display ‘n’ Fibonacci numbers using Recursion"
   ]
  },
  {
   "cell_type": "code",
   "execution_count": 3,
   "metadata": {},
   "outputs": [
    {
     "name": "stdout",
     "output_type": "stream",
     "text": [
      "10\n",
      "34\n"
     ]
    }
   ],
   "source": [
    "def fib(n):\n",
    "    if n==1:\n",
    "        return 0\n",
    "    elif n==2:\n",
    "        return 1\n",
    "    else:\n",
    "        return fib(n-1)+fib(n-2)\n",
    "num=int(input())\n",
    "print(fib(num))\n",
    "  "
   ]
  },
  {
   "cell_type": "markdown",
   "metadata": {},
   "source": [
    "### 3.Print sum of list of elements without using sum() function"
   ]
  },
  {
   "cell_type": "code",
   "execution_count": 9,
   "metadata": {},
   "outputs": [
    {
     "name": "stdout",
     "output_type": "stream",
     "text": [
      "26\n"
     ]
    }
   ],
   "source": [
    "def Sum(n):\n",
    "    s=0\n",
    "    for i in range(0,len(n)):\n",
    "        s=s+n[i]\n",
    "    return s\n",
    "\n",
    "list1=[8,2,5,7,3,1]\n",
    "print(Sum(list1))"
   ]
  },
  {
   "cell_type": "markdown",
   "metadata": {},
   "source": [
    "### 4.Print only even numbers from the list"
   ]
  },
  {
   "cell_type": "code",
   "execution_count": 18,
   "metadata": {},
   "outputs": [
    {
     "name": "stdout",
     "output_type": "stream",
     "text": [
      "Enter list items separated by comma : 2,9,6,3,0,1\n",
      "Even numbers in list : 2 6 0 "
     ]
    }
   ],
   "source": [
    "def even(n):\n",
    "    print(\"Even numbers in list : \",end=\"\")\n",
    "    for i in range(0,len(n)):\n",
    "        if int(n[i])%2==0:\n",
    "            print(n[i],end=\" \")\n",
    "        else:\n",
    "            continue\n",
    "l=input(\"Enter list items separated by comma : \")\n",
    "list1=l.split(\",\")\n",
    "even(list1)\n",
    "    "
   ]
  },
  {
   "cell_type": "markdown",
   "metadata": {},
   "source": [
    "### 5.Write a Python program to get the smallest number from a list and display index of smallest element of the list"
   ]
  },
  {
   "cell_type": "code",
   "execution_count": 7,
   "metadata": {},
   "outputs": [
    {
     "name": "stdout",
     "output_type": "stream",
     "text": [
      "Enter list items separated by coma : 5,9,4,1,7,6,3\n",
      "Smallest number in the list :  1\n",
      "Index of smallest number =  3\n"
     ]
    }
   ],
   "source": [
    "def small(m):\n",
    "    mini=0\n",
    "    print(\"Smallest number in the list : \",end=\" \")\n",
    "    for i in range(0,len(m)):\n",
    "        if mini==0:\n",
    "            mini=m[i]\n",
    "        elif m[i]<mini:\n",
    "            mini=m[i]\n",
    "    \n",
    "    print(mini)\n",
    "    print(\"Index of smallest number = \",m.index(mini))\n",
    "    \n",
    "list2=input(\"Enter list items separated by coma : \")\n",
    "l2=list2.split(\",\")\n",
    "small(l2)"
   ]
  },
  {
   "cell_type": "markdown",
   "metadata": {},
   "source": [
    "### 6.Write a Python function that checks whether a passed string is palindrome or not."
   ]
  },
  {
   "cell_type": "code",
   "execution_count": 13,
   "metadata": {},
   "outputs": [
    {
     "name": "stdout",
     "output_type": "stream",
     "text": [
      "Enter a string : madam\n",
      "Passed string - madam - is palindrome\n",
      "Enter a string : 8724\n",
      "Passed string - 8724 - is not palindrome\n"
     ]
    }
   ],
   "source": [
    "def palin(p):\n",
    "    if p==p[::-1]:\n",
    "        print(\"Passed string -\",p,\"- is palindrome\")\n",
    "    else:\n",
    "        print(\"Passed string -\",p,\"- is not palindrome\")\n",
    "s=input(\"Enter a string : \")\n",
    "palin(s)\n",
    "n=input(\"Enter a string : \")\n",
    "palin(n)"
   ]
  },
  {
   "cell_type": "markdown",
   "metadata": {},
   "source": [
    "### 7.Write a Python program to count the number of even and odd numbers from a series of numbers. "
   ]
  },
  {
   "cell_type": "code",
   "execution_count": 2,
   "metadata": {},
   "outputs": [
    {
     "name": "stdout",
     "output_type": "stream",
     "text": [
      "For Series of numbers -\n",
      "Enter series of numbers without space : 23489165\n",
      "Number of even numbers :  4\n",
      "Number of odd numbers :  4\n",
      "For numbers in list -\n",
      "Enter list items separated by coma : 5,8,1,7,3,2,6,4,0\n",
      "Number of even numbers :  5\n",
      "Number of odd numbers :  4\n"
     ]
    }
   ],
   "source": [
    "def check(a):\n",
    "    e=0 \n",
    "    o=0\n",
    "    for i in range(0,len(a)):\n",
    "        if int(a[i])%2==0 : e+=1\n",
    "        else: o+=1\n",
    "    print(\"Number of even numbers : \",e)\n",
    "    print(\"Number of odd numbers : \",o)\n",
    "print(\"For Series of numbers -\")\n",
    "l=input(\"Enter series of numbers without space : \")\n",
    "l=tuple(l)\n",
    "check(l)\n",
    "print(\"For numbers in list -\")\n",
    "l1=input(\"Enter list items separated by coma : \")\n",
    "l1=l1.split(\",\")\n",
    "check(l1)\n"
   ]
  },
  {
   "cell_type": "markdown",
   "metadata": {},
   "source": [
    "### 8.Write a Python program that prints all the numbers from 0 to 6 except 3 and 6."
   ]
  },
  {
   "cell_type": "code",
   "execution_count": 8,
   "metadata": {},
   "outputs": [
    {
     "name": "stdout",
     "output_type": "stream",
     "text": [
      "0 1 2 4 5 "
     ]
    }
   ],
   "source": [
    "for i in range(0,6):\n",
    "    if i==3 or i==6:\n",
    "        continue\n",
    "    else:\n",
    "        print(i,end=\" \")"
   ]
  },
  {
   "cell_type": "markdown",
   "metadata": {},
   "source": [
    "### 9.Write a python function to check whether the given number is prime or not"
   ]
  },
  {
   "cell_type": "code",
   "execution_count": 12,
   "metadata": {},
   "outputs": [
    {
     "name": "stdout",
     "output_type": "stream",
     "text": [
      "13\n",
      "13 is a prime number\n"
     ]
    }
   ],
   "source": [
    "def prime(num):\n",
    "    if num > 1: \n",
    "        for i in range(2, num):  \n",
    "            if (num % i) == 0: \n",
    "                print(num, \"is not a prime number\") \n",
    "                break\n",
    "        else: \n",
    "            print(num, \"is a prime number\") \n",
    "    else: \n",
    "        print(num, \"is not a prime number\") \n",
    "n=int(input())\n",
    "prime(n)\n",
    "    "
   ]
  },
  {
   "cell_type": "markdown",
   "metadata": {},
   "source": [
    "### 10.Write a python function to check whether the given number is Adam number or not"
   ]
  },
  {
   "cell_type": "code",
   "execution_count": 15,
   "metadata": {},
   "outputs": [
    {
     "name": "stdout",
     "output_type": "stream",
     "text": [
      "Enter a number : 43\n",
      "Not an Adam number\n"
     ]
    }
   ],
   "source": [
    "n=int(input(\"Enter a number : \"))\n",
    "if int(str(n**2)[::-1])==int(str(n)[::-1])**2:\n",
    "    print(\"Adam number\")\n",
    "else:\n",
    "    print(\"Not an Adam number\")"
   ]
  },
  {
   "cell_type": "code",
   "execution_count": null,
   "metadata": {},
   "outputs": [],
   "source": []
  }
 ],
 "metadata": {
  "kernelspec": {
   "display_name": "Python 3",
   "language": "python",
   "name": "python3"
  },
  "language_info": {
   "codemirror_mode": {
    "name": "ipython",
    "version": 3
   },
   "file_extension": ".py",
   "mimetype": "text/x-python",
   "name": "python",
   "nbconvert_exporter": "python",
   "pygments_lexer": "ipython3",
   "version": "3.7.1"
  }
 },
 "nbformat": 4,
 "nbformat_minor": 2
}
