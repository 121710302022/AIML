{
 "cells": [
  {
   "cell_type": "markdown",
   "metadata": {},
   "source": [
    "## CSE-121710302022- K.Naga Vennela"
   ]
  },
  {
   "cell_type": "markdown",
   "metadata": {},
   "source": [
    "### Question 7:\n",
    "- Input string : \"xyz:750,abc:265,qwerty:195\"\n",
    "- Output string : abc\n"
   ]
  },
  {
   "cell_type": "code",
   "execution_count": 11,
   "metadata": {},
   "outputs": [
    {
     "name": "stdout",
     "output_type": "stream",
     "text": [
      "xyz:750,abc:265,qwerty:195\n"
     ]
    },
    {
     "data": {
      "text/plain": [
       "'abc'"
      ]
     },
     "execution_count": 11,
     "metadata": {},
     "output_type": "execute_result"
    }
   ],
   "source": [
    "n = input().split(\",\")\n",
    "m = [i.split(\":\")[1] for i in n]\n",
    "l = []\n",
    "for ele in m:\n",
    "    a = int(ele)\n",
    "    rev = ele[::-1]\n",
    "    while str(a)!=rev:\n",
    "        a += int(rev)\n",
    "        rev = str(a)[::-1]\n",
    "    l.append(a)\n",
    "n[l.index(max(l))].split(\":\")[0]"
   ]
  },
  {
   "cell_type": "markdown",
   "metadata": {},
   "source": [
    "### Question 8:\n",
    "- Input : {\"local\":[\"admin\",\"userA\"],\"public\":[\"admin\",\"userB\"],\"administrator\":[\"admin\"]}\n",
    "- Output : {'admin': ['local', 'public', 'administrator'], 'userA': ['local'], 'userB': ['public']}\n"
   ]
  },
  {
   "cell_type": "code",
   "execution_count": 28,
   "metadata": {},
   "outputs": [
    {
     "name": "stdout",
     "output_type": "stream",
     "text": [
      "{'admin': ['local', 'public', 'administrator'], 'userA': ['local'], 'userB': ['public']}\n"
     ]
    }
   ],
   "source": [
    "def groups_per_user(groups):\n",
    "    usergroups = {}\n",
    "    for group,users in groups.items():\n",
    "        for user in users:\n",
    "             usergroups[user] = usergroups.get(user,[]) + [group]\n",
    "\n",
    "    return(usergroups)\n",
    "\n",
    "print(groups_per_user({\"local\": [\"admin\", \"userA\"], \"public\":  [\"admin\", \"userB\"], \"administrator\": [\"admin\"] }))\n"
   ]
  },
  {
   "cell_type": "markdown",
   "metadata": {},
   "source": [
    "### Question 9:\n",
    "- Input : london 40000 12,chicago 60000 20,munich 50000 15,paris 70000 5\n",
    "- Output : paris munich\n"
   ]
  },
  {
   "cell_type": "code",
   "execution_count": 33,
   "metadata": {},
   "outputs": [
    {
     "name": "stdout",
     "output_type": "stream",
     "text": [
      "london 40000 12,chicago 60000 20,munich 50000 15,paris 70000 5\n",
      "Output : paris munich "
     ]
    }
   ],
   "source": [
    "s=input()\n",
    "s1=s.split(',')\n",
    "a={}\n",
    "b={}\n",
    "al=[]\n",
    "bl=[]\n",
    "for i in s1:\n",
    "    a1=list(i.split())\n",
    "    a[a1[0]]=int(a1[1])\n",
    "    b[a1[0]]=int(a1[2])\n",
    "a1 = sorted(a.items(), key=lambda x: x[1],reverse=True)\n",
    "b1 = sorted(b.items(), key=lambda x: x[1])\n",
    "for i in a1:\n",
    "    al.append(i[0])\n",
    "for i in b1:\n",
    "    bl.append(i[0])\n",
    "print(\"Output : \",end=\"\")\n",
    "for i in range(0,len(a1)):\n",
    "    if(al[i]==bl[i]):\n",
    "        print(al[i],end=\" \")"
   ]
  },
  {
   "cell_type": "markdown",
   "metadata": {},
   "source": [
    "### Question 10:\n",
    "- Jug Filling Problem\n"
   ]
  },
  {
   "cell_type": "code",
   "execution_count": 36,
   "metadata": {},
   "outputs": [
    {
     "name": "stdout",
     "output_type": "stream",
     "text": [
      "[(8, 0, 0), (3, 5, 0), (0, 5, 3), (5, 0, 3), (5, 3, 0), (2, 3, 3), (2, 5, 1), (7, 0, 1), (7, 1, 0), (4, 1, 3), (4, 4, 0)]\n",
      "Sequence :  11\n"
     ]
    }
   ],
   "source": [
    "capacity = (8,5,3)\n",
    "x = capacity[0]\n",
    "y = capacity[1]\n",
    "z = capacity[2]\n",
    "memory = {}\n",
    "ans = []\n",
    "\n",
    "def get_all_states(state):\n",
    "    a = state[0]\n",
    "    b = state[1]\n",
    "    c = state[2]\n",
    "    if(a==4 and b==4):\n",
    "        ans.append(state)\n",
    "        return True\n",
    "    if((a,b,c) in memory):\n",
    "        return False\n",
    "    \n",
    "    memory[(a,b,c)] = 1\n",
    "    if(a>0):\n",
    "        if(a+b<=y):\n",
    "            if( get_all_states((0,a+b,c)) ):\n",
    "                ans.append(state)\n",
    "                return True\n",
    "        else:\n",
    "            if( get_all_states((a-(y-b), y, c)) ):\n",
    "                ans.append(state)\n",
    "                return True\n",
    "        if(a+c<=z):\n",
    "            if( get_all_states((0,b,a+c)) ):\n",
    "                ans.append(state)\n",
    "                return True\n",
    "        else:\n",
    "            if( get_all_states((a-(z-c), b, z)) ):\n",
    "                ans.append(state)\n",
    "                return True\n",
    "    if(b>0):\n",
    "        if(a+b<=x):\n",
    "            if( get_all_states((a+b, 0, c)) ):\n",
    "                ans.append(state)\n",
    "                return True\n",
    "        else:\n",
    "            if( get_all_states((x, b-(x-a), c)) ):\n",
    "                ans.append(state)\n",
    "                return True\n",
    "        if(b+c<=z):\n",
    "            if( get_all_states((a, 0, b+c)) ):\n",
    "                ans.append(state)\n",
    "                return True\n",
    "        else:\n",
    "            if( get_all_states((a, b-(z-c), z)) ):\n",
    "                ans.append(state)\n",
    "                return True\n",
    "    if(c>0):\n",
    "        if(a+c<=x):\n",
    "            if( get_all_states((a+c, b, 0)) ):\n",
    "                ans.append(state)\n",
    "                return True\n",
    "        else:\n",
    "            if( get_all_states((x, b, c-(x-a))) ):\n",
    "                ans.append(state)\n",
    "                return True\n",
    "        if(b+c<=y):\n",
    "            if( get_all_states((a, b+c, 0)) ):\n",
    "                ans.append(state)\n",
    "                return True\n",
    "        else:\n",
    "            if( get_all_states((a, y, c-(y-b))) ):\n",
    "                ans.append(state)\n",
    "                return True\n",
    "\n",
    "    return False\n",
    "\n",
    "initial_state = (8,0,0)\n",
    "get_all_states(initial_state)\n",
    "ans.reverse()\n",
    "print(ans)\n",
    "print(\"Sequence : \",len(ans))"
   ]
  },
  {
   "cell_type": "markdown",
   "metadata": {},
   "source": [
    "### Question 11:\n",
    "- Input:\n",
    " - user_id = [1,1,2,3,3,4,4,4,5,5]\n",
    " - ancestry=[\"England\",\"Ireland\",\"France\",\"Germany\",\"Poland\",\"England\",\"France\",\"Germany\",\"France\",\"Germany\"]\n",
    " - required = ['France', 'Germany']\n",
    "\n",
    "- Output: 4 5\n"
   ]
  },
  {
   "cell_type": "code",
   "execution_count": 40,
   "metadata": {},
   "outputs": [
    {
     "name": "stdout",
     "output_type": "stream",
     "text": [
      "4\n",
      "5\n"
     ]
    }
   ],
   "source": [
    "user_id = [1,1,2,3,3,4,4,4,5,5]\n",
    "user = list(set(user_id))\n",
    "ancestry=[\"England\",\"Ireland\",\"France\",\"Germany\",\"Poland\",\"England\",\"France\",\"Germany\",\"France\",\"Germany\"]\n",
    "d = {}\n",
    "for i in user :\n",
    "    d[i] = [ancestry[j] for j in range(len(user_id)) if i==user_id[j]]\n",
    "required = ['France', 'Germany']\n",
    "for i in range(0,len(user)):\n",
    "    if(set(required).issubset(set(d[user[i]]))):\n",
    "        print(user[i])"
   ]
  },
  {
   "cell_type": "code",
   "execution_count": null,
   "metadata": {},
   "outputs": [],
   "source": []
  }
 ],
 "metadata": {
  "kernelspec": {
   "display_name": "Python 3",
   "language": "python",
   "name": "python3"
  },
  "language_info": {
   "codemirror_mode": {
    "name": "ipython",
    "version": 3
   },
   "file_extension": ".py",
   "mimetype": "text/x-python",
   "name": "python",
   "nbconvert_exporter": "python",
   "pygments_lexer": "ipython3",
   "version": "3.7.1"
  }
 },
 "nbformat": 4,
 "nbformat_minor": 2
}
