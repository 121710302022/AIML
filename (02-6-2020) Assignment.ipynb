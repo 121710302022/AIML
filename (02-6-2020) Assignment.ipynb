{
 "cells": [
  {
   "cell_type": "markdown",
   "metadata": {},
   "source": [
    "# CSE-121710302022- K.Naga Vennela"
   ]
  },
  {
   "cell_type": "markdown",
   "metadata": {},
   "source": [
    "### Nine lives"
   ]
  },
  {
   "cell_type": "code",
   "execution_count": 2,
   "metadata": {},
   "outputs": [
    {
     "name": "stdout",
     "output_type": "stream",
     "text": [
      "NINE LIVES\n",
      "This is a game where you need to find out the secret word which is a FRUIT.\n",
      "You just have nine lives to find the correct word, you can either enter a sinle letter or whole word at once.\n",
      "\n",
      "Guess the whole word or atleast a letter: a\n",
      "Lives Left: ❤❤❤❤❤❤❤❤❤\n",
      "['?', '?', '?', '?', '?']\n",
      "\n",
      "Guess the whole word or atleast a letter: p\n",
      "Lives Left: ❤❤❤❤❤❤❤❤❤\n",
      "['?', 'a', '?', '?', '?']\n",
      "Wrong guess.You lost a life\n",
      "\n",
      "Guess the whole word or atleast a letter: m\n",
      "Lives Left: ❤❤❤❤❤❤❤❤\n",
      "['?', 'a', '?', '?', '?']\n",
      "\n",
      "Guess the whole word or atleast a letter: n\n",
      "Lives Left: ❤❤❤❤❤❤❤❤\n",
      "['m', 'a', '?', '?', '?']\n",
      "\n",
      "Guess the whole word or atleast a letter: g\n",
      "Lives Left: ❤❤❤❤❤❤❤❤\n",
      "['m', 'a', 'n', '?', '?']\n",
      "\n",
      "Guess the whole word or atleast a letter: o\n",
      "Lives Left: ❤❤❤❤❤❤❤❤\n",
      "['m', 'a', 'n', 'g', '?']\n",
      "\n",
      "Guess the whole word or atleast a letter: mango\n",
      "Lives Left: ❤❤❤❤❤❤❤❤\n",
      "['m', 'a', 'n', 'g', 'o']\n",
      "\n",
      "You won the game!!!\n",
      "Your answer - mango - is correct.\n"
     ]
    }
   ],
   "source": [
    "import random\n",
    "lives = 9\n",
    "h = '\\u2764'\n",
    "w = [\"guava\",\"mango\",\"apple\",\"grape\",\"peach\"]\n",
    "secret_word = random.choice(w)\n",
    "clue = list('?'*5)\n",
    "\n",
    "def update_clue(guessed_letter,secret_word,clue):\n",
    "    cnt = 0\n",
    "    while cnt<len(secret_word):\n",
    "        if guessed_letter == secret_word[cnt]:\n",
    "            clue[cnt] = guessed_letter\n",
    "        cnt += 1\n",
    "        \n",
    "guessed_word_correctly = False\n",
    "\n",
    "print(\"NINE LIVES\\nThis is a game where you need to find out the secret word which is a FRUIT.\\nYou just have nine lives to find the correct word, you can either enter a sinle letter or whole word at once.\")\n",
    "while lives>0:\n",
    "    r = 0\n",
    "    guess = input(\"\\nGuess the whole word or atleast a letter: \")\n",
    "    print(\"Lives Left:\",h*lives)\n",
    "    print(clue)\n",
    "    if guess == secret_word:\n",
    "        guessed_word_correctly = True\n",
    "        break\n",
    "    elif guess in secret_word:\n",
    "        update_clue(guess,secret_word,clue)\n",
    "    else:\n",
    "        print(\"Wrong guess.You lost a life\")\n",
    "        lives -= 1\n",
    "if guessed_word_correctly==True:\n",
    "    print(\"\\nYou won the game!!!\\nYour answer -\",secret_word,\"- is correct.\")\n",
    "else:\n",
    "    print(\"\\nYou lost the game!!!\\nYour answer -\",secret_word,\"- is not correct\")"
   ]
  },
  {
   "cell_type": "code",
   "execution_count": null,
   "metadata": {},
   "outputs": [],
   "source": []
  },
  {
   "cell_type": "code",
   "execution_count": null,
   "metadata": {},
   "outputs": [],
   "source": []
  },
  {
   "cell_type": "code",
   "execution_count": null,
   "metadata": {},
   "outputs": [],
   "source": []
  },
  {
   "cell_type": "code",
   "execution_count": null,
   "metadata": {},
   "outputs": [],
   "source": []
  }
 ],
 "metadata": {
  "kernelspec": {
   "display_name": "Python 3",
   "language": "python",
   "name": "python3"
  },
  "language_info": {
   "codemirror_mode": {
    "name": "ipython",
    "version": 3
   },
   "file_extension": ".py",
   "mimetype": "text/x-python",
   "name": "python",
   "nbconvert_exporter": "python",
   "pygments_lexer": "ipython3",
   "version": "3.7.1"
  }
 },
 "nbformat": 4,
 "nbformat_minor": 2
}
