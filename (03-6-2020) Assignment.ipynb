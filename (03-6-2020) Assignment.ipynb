{
 "cells": [
  {
   "cell_type": "markdown",
   "metadata": {},
   "source": [
    "# CSE-121710302022- K. Naga Vennela"
   ]
  },
  {
   "cell_type": "markdown",
   "metadata": {},
   "source": [
    "### 1.[Reverse] Copy the contents of a text file into another, printing the reversed version of each input line"
   ]
  },
  {
   "cell_type": "code",
   "execution_count": 6,
   "metadata": {},
   "outputs": [],
   "source": [
    "f1 = open(\"file1.txt\", \"w\") \n",
    "f1.write(\"Hello, this is a program to reverse the content\")\n",
    "f1.close()\n",
    "f1=open(\"file1.txt\", \"r\")\n",
    "data=f1.read()\n",
    "f1.close()\n",
    "data1=data[::-1]"
   ]
  },
  {
   "cell_type": "code",
   "execution_count": 7,
   "metadata": {},
   "outputs": [
    {
     "name": "stdout",
     "output_type": "stream",
     "text": [
      "tnetnoc eht esrever ot margorp a si siht ,olleH\n"
     ]
    }
   ],
   "source": [
    "f2 = open(\"file2.txt\",\"w\")\n",
    "f2.write(data1)\n",
    "f2.close()\n",
    "f2 = open(\"file2.txt\",\"r\")\n",
    "d = f2.read()\n",
    "f2.close()\n",
    "print(d)"
   ]
  },
  {
   "cell_type": "markdown",
   "metadata": {},
   "source": [
    "### 2.[Number Lines] Print the contents of a file line by line putting a line number for each line."
   ]
  },
  {
   "cell_type": "code",
   "execution_count": 11,
   "metadata": {},
   "outputs": [
    {
     "name": "stdout",
     "output_type": "stream",
     "text": [
      "1 = This is line 1.\n",
      "2 = In the second line.\n",
      "3 = Third line is the largest\n"
     ]
    }
   ],
   "source": [
    "f=open('linebyline.txt', 'w')\n",
    "f.write(\"This is line 1.\\nIn the second line.\\nThird line is the largest\")\n",
    "f.close()\n",
    "with open('linebyline.txt', 'r') as l:\n",
    "    for i, line in enumerate(l, start=1):\n",
    "        print('{} = {}'.format(i, line.strip()))"
   ]
  },
  {
   "cell_type": "markdown",
   "metadata": {},
   "source": [
    "### 3.[deDuplicate] Avoiding Duplicates"
   ]
  },
  {
   "cell_type": "code",
   "execution_count": 38,
   "metadata": {},
   "outputs": [
    {
     "name": "stdout",
     "output_type": "stream",
     "text": [
      "Enter elements separated by commas : 1,2,3,2\n",
      "True\n",
      "['2', '3', '1']\n"
     ]
    }
   ],
   "source": [
    "def rem_dupli(b):\n",
    "    print(list(set(b)))\n",
    "def dupli(a):\n",
    "    l1 = []\n",
    "    c=0\n",
    "    for ele in a:\n",
    "        if ele not in l1:\n",
    "            l1.append(ele)\n",
    "        elif ele in l1:\n",
    "            c+=1\n",
    "    if c>0:\n",
    "        print(\"True\")\n",
    "        rem_dupli(a)\n",
    "    else:\n",
    "        print(\"False\")\n",
    "        print(a)\n",
    "list1 =input(\"Enter elements separated by commas : \") \n",
    "list1 = list1.split(\",\")\n",
    "dupli(list1) "
   ]
  },
  {
   "cell_type": "markdown",
   "metadata": {},
   "source": [
    "### 4.[fractions.py] Develop a package for fractions"
   ]
  },
  {
   "cell_type": "code",
   "execution_count": 48,
   "metadata": {},
   "outputs": [
    {
     "name": "stdout",
     "output_type": "stream",
     "text": [
      "4\n",
      "5\n",
      "(0.25, 0.2)\n"
     ]
    }
   ],
   "source": [
    "import fractions as frac\n",
    "x = int(input())\n",
    "y = int(input())\n",
    "print(frac.create_frac(x,y))"
   ]
  },
  {
   "cell_type": "markdown",
   "metadata": {},
   "source": [
    "### 5.[Permutations] "
   ]
  },
  {
   "cell_type": "code",
   "execution_count": 44,
   "metadata": {},
   "outputs": [
    {
     "name": "stdout",
     "output_type": "stream",
     "text": [
      "Enter elements separated by commas : 1,2,1\n",
      "Enter elements separated by commas to check whether it is a permutation of above list or not : 1,2,2\n",
      "False\n"
     ]
    }
   ],
   "source": [
    "def isPermutation (list1, list2):\n",
    "    if len(list1) != len(list2):\n",
    "        return False\n",
    "    for i in range(0, len(list1)):\n",
    "        if list1.count(list1[i]) != list2.count(list1[i]):\n",
    "            return False\n",
    "        else:\n",
    "            return True\n",
    "L = input(\"Enter elements separated by commas : \") \n",
    "L = L.split(\",\")\n",
    "L1 = input(\"Enter elements separated by commas to check whether it is a permutation of above list or not : \") \n",
    "L1 = L1.split(\",\")\n",
    "print(isPermutation (L, L1))"
   ]
  },
  {
   "cell_type": "code",
   "execution_count": null,
   "metadata": {},
   "outputs": [],
   "source": []
  },
  {
   "cell_type": "code",
   "execution_count": null,
   "metadata": {},
   "outputs": [],
   "source": []
  }
 ],
 "metadata": {
  "kernelspec": {
   "display_name": "Python 3",
   "language": "python",
   "name": "python3"
  },
  "language_info": {
   "codemirror_mode": {
    "name": "ipython",
    "version": 3
   },
   "file_extension": ".py",
   "mimetype": "text/x-python",
   "name": "python",
   "nbconvert_exporter": "python",
   "pygments_lexer": "ipython3",
   "version": "3.7.1"
  }
 },
 "nbformat": 4,
 "nbformat_minor": 2
}
